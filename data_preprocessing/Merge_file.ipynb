{
 "cells": [
  {
   "cell_type": "code",
   "execution_count": 87,
   "id": "0de014c1",
   "metadata": {},
   "outputs": [
    {
     "name": "stdout",
     "output_type": "stream",
     "text": [
      "✅ Combined and cleaned dataset saved. Final shape: (118310, 38)\n"
     ]
    }
   ],
   "source": [
    "import pandas as pd\n",
    "\n",
    "# Load datasets\n",
    "customers = pd.read_csv(f\"olist_customers_dataset.csv\")\n",
    "geolocation = pd.read_csv(f\"olist_geolocation_dataset.csv\")\n",
    "order_items = pd.read_csv(f\"olist_order_items_dataset.csv\")\n",
    "order_payments = pd.read_csv(f\"olist_order_payments_dataset.csv\")\n",
    "order_reviews = pd.read_csv(f\"olist_order_reviews_dataset.csv\")\n",
    "order_dataset = pd.read_csv(f\"olist_orders_dataset.csv\")\n",
    "products_dataset = pd.read_csv(f\"olist_products_dataset.csv\")\n",
    "sellers_dataset = pd.read_csv(f\"olist_sellers_dataset.csv\")\n",
    "\n",
    "# Merge datasets (excluding full geolocation first)\n",
    "order_data = pd.merge(order_dataset, order_items, on='order_id', how='inner')\n",
    "order_data = pd.merge(order_data, products_dataset, on='product_id', how='left')\n",
    "order_data = pd.merge(order_data, customers, on='customer_id', how='left')\n",
    "order_data = pd.merge(order_data, order_reviews[['order_id','review_score']], on='order_id', how='left')\n",
    "order_data = pd.merge(order_data, sellers_dataset, on='seller_id', how='left')\n",
    "order_data = pd.merge(order_data, order_payments, on='order_id', how='left')\n",
    "\n",
    "# Save final result\n",
    "order_data.to_csv(\"olist_combined_clean_3.csv\", index=False)\n",
    "print(\"✅ Combined and cleaned dataset saved. Final shape:\", order_data.shape)\n"
   ]
  },
  {
   "cell_type": "code",
   "execution_count": 88,
   "id": "1d6d66c9",
   "metadata": {},
   "outputs": [
    {
     "name": "stdout",
     "output_type": "stream",
     "text": [
      "order_delivered_customer_date    2588\n",
      "product_description_lenght       1709\n",
      "product_category_name            1709\n",
      "product_name_lenght              1709\n",
      "product_photos_qty               1709\n",
      "order_delivered_carrier_date     1254\n",
      "review_score                      978\n",
      "geolocation_lat_x                 317\n",
      "geolocation_lng_x                 317\n",
      "geolocation_lng_y                 265\n",
      "geolocation_lat_y                 265\n",
      "product_width_cm                   20\n",
      "product_length_cm                  20\n",
      "product_height_cm                  20\n",
      "product_weight_g                   20\n",
      "order_approved_at                  15\n",
      "payment_type                        3\n",
      "payment_sequential                  3\n",
      "payment_value                       3\n",
      "payment_installments                3\n",
      "dtype: int64\n"
     ]
    }
   ],
   "source": [
    "df = pd.read_csv(\"olist_combined_clean_3.csv\")\n",
    "\n",
    "# Show count of missing values per column\n",
    "missing_values = df.isna().sum().sort_values(ascending=False)\n",
    "print(missing_values[missing_values > 0])\n"
   ]
  }
 ],
 "metadata": {
  "kernelspec": {
   "display_name": "newFyp",
   "language": "python",
   "name": "python3"
  },
  "language_info": {
   "codemirror_mode": {
    "name": "ipython",
    "version": 3
   },
   "file_extension": ".py",
   "mimetype": "text/x-python",
   "name": "python",
   "nbconvert_exporter": "python",
   "pygments_lexer": "ipython3",
   "version": "3.11.11"
  }
 },
 "nbformat": 4,
 "nbformat_minor": 5
}
